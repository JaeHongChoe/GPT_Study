{
 "cells": [
  {
   "cell_type": "code",
   "execution_count": 1,
   "id": "1f733efd",
   "metadata": {},
   "outputs": [],
   "source": [
    "import os\n"
   ]
  },
  {
   "cell_type": "markdown",
   "id": "83945f3b",
   "metadata": {},
   "source": [
    "## HuggingFaceHub"
   ]
  },
  {
   "cell_type": "code",
   "execution_count": 10,
   "id": "2db5b27b",
   "metadata": {},
   "outputs": [
    {
     "name": "stderr",
     "output_type": "stream",
     "text": [
      "/Users/choejaehong/.conda/envs/pythonProject1/lib/python3.10/site-packages/huggingface_hub/utils/_deprecation.py:131: FutureWarning: 'post' (from 'huggingface_hub.inference._client') is deprecated and will be removed from version '0.31.0'. Making direct POST requests to the inference server is not supported anymore. Please use task methods instead (e.g. `InferenceClient.chat_completion`). If your use case is not supported, please open an issue in https://github.com/huggingface/huggingface_hub.\n",
      "  warnings.warn(warning_message, FutureWarning)\n"
     ]
    },
    {
     "data": {
      "text/plain": [
       "'\"Korea\" is a term that generally refers to two distinct sovereign states in East Asia: North Korea (officially the Democratic People\\'s Republic of Korea) and South Korea (officially the Republic of Korea).\\n\\nThe Korean Peninsula, from which these countries take their names, is located in Northeast Asia, bordered by China to the west and Japan to the east. The peninsula is divided by the Korean Demilitarized Zone (DMZ) following the Korean War (1950-1953).\\n\\nThe name \"Korea\" comes from the ancient Chinese term \"Guoxia\" or \"Kok-shi,\" which means \"high country.\" The indigenous name for the Korean Peninsula is Chosŏn or Joseon in Korean.\\n\\nBoth North and South Korea share a common language, Korean, and a significant cultural heritage, but they have developed distinct political and economic systems since the end of World War II.'"
      ]
     },
     "execution_count": 10,
     "metadata": {},
     "output_type": "execute_result"
    }
   ],
   "source": [
    "from langchain_huggingface import HuggingFaceEndpoint\n",
    "from langchain.prompts import PromptTemplate\n",
    "\n",
    "llm = HuggingFaceEndpoint(\n",
    "repo_id=\"mistralai/Mistral-7B-Instruct-v0.3\",\n",
    "    task=\"text-generation\",\n",
    "    temperature=0.5,\n",
    "max_new_tokens=250,\n",
    ")\n",
    "prompt = PromptTemplate.from_template(\"[INST]What is the meaning of {word}[/INST]\")\n",
    "\n",
    "# prompt =PromptTemplate.from_template('What is the meaning of {word}')\n",
    "chain = prompt | llm\n",
    "chain.invoke({'word':'Korea'})"
   ]
  },
  {
   "cell_type": "markdown",
   "id": "1f2c4dd5",
   "metadata": {},
   "source": [
    "## HuggingFacePipeline"
   ]
  },
  {
   "cell_type": "code",
   "execution_count": 4,
   "id": "ef24dfba",
   "metadata": {},
   "outputs": [
    {
     "name": "stderr",
     "output_type": "stream",
     "text": [
      "Device set to use cpu\n"
     ]
    },
    {
     "data": {
      "text/plain": [
       "\"A Korea is a unique case in which it provides an interesting framework for an interracial marriage that could be applied globally. As the Korean is a large country, and Korea's economic prospects are not as high as some others in the region, the chances of any kind of interracial marriages are pretty good. Thus, I hope this paper will lead you to understand why Korea offers such great interracial marriages. I hope other countries will take notice of this paper and take notice.\\n\\nPractical applications\\n\\nFor this post, I will discuss some cases where interracial relationships are successful and can be used in social sciences (e.g., anthropology, sociology, psychology, sociology, anthropology/anarchism, etc.). These cases are not limited to psychology or sociology\""
      ]
     },
     "execution_count": 4,
     "metadata": {},
     "output_type": "execute_result"
    }
   ],
   "source": [
    "from langchain.llms.huggingface_pipeline import HuggingFacePipeline\n",
    "from langchain.prompts import PromptTemplate\n",
    "\n",
    "prompt = PromptTemplate.from_template(\"A {word} is a\")\n",
    "\n",
    "llm = HuggingFacePipeline.from_model_id(\n",
    "    model_id=\"gpt2\",\n",
    "    task=\"text-generation\",\n",
    "    device = -1,\n",
    "    pipeline_kwargs={\"max_new_tokens\": 150},\n",
    ")\n",
    "\n",
    "chain = prompt | llm\n",
    "\n",
    "chain.invoke({\"word\": \"Korea\"})\n"
   ]
  },
  {
   "cell_type": "code",
   "execution_count": null,
   "id": "8cded297",
   "metadata": {},
   "outputs": [],
   "source": []
  }
 ],
 "metadata": {
  "kernelspec": {
   "display_name": "Python 3 (ipykernel)",
   "language": "python",
   "name": "python3"
  },
  "language_info": {
   "codemirror_mode": {
    "name": "ipython",
    "version": 3
   },
   "file_extension": ".py",
   "mimetype": "text/x-python",
   "name": "python",
   "nbconvert_exporter": "python",
   "pygments_lexer": "ipython3",
   "version": "3.10.0"
  }
 },
 "nbformat": 4,
 "nbformat_minor": 5
}
