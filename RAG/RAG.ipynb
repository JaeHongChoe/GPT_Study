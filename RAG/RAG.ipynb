{
 "cells": [
  {
   "cell_type": "code",
   "execution_count": null,
   "id": "ce038e52",
   "metadata": {},
   "outputs": [],
   "source": [
    "import os\n",
    "os.environ[\"OPENAI_API_KEY\"] = \n",
    "os.environ[\"LANGCHAIN_TRACING_V2\"]=\"true\"\n",
    "os.environ[\"LANGCHAIN_API_KEY\"]=\"https://api.smith.langchain.com\"\n",
    "os.environ[\"LANGCHAIN_API_KEY\"]=\n"
   ]
  },
  {
   "cell_type": "markdown",
   "id": "6b7d1c16",
   "metadata": {},
   "source": [
    "## Data Loaders and Splitters"
   ]
  },
  {
   "cell_type": "code",
   "execution_count": null,
   "id": "b2e912ca",
   "metadata": {
    "scrolled": true
   },
   "outputs": [],
   "source": [
    "from langchain.chat_models import ChatOpenAI\n",
    "from langchain.document_loaders import UnstructuredFileLoader\n",
    "from langchain.callbacks import StreamingStdOutCallbackHandler\n",
    "from langchain.text_splitter import CharacterTextSplitter\n",
    "\n",
    "\"\"\"\n",
    "pip install unstructured\n",
    "pip install \"unstructured[pdf]\"\n",
    "pip install \"unstructured[docx]\"\n",
    "\"\"\"\n",
    "chat = ChatOpenAI(\n",
    "                model=\"gpt-4.1-nano\",\n",
    "                temperature=0.1,\n",
    "                tiktoken_model_name=\"gpt-3.5-turbo\",\n",
    "                streaming = True,\n",
    "                callbacks=[StreamingStdOutCallbackHandler()])\n",
    "\n",
    "splitter = CharacterTextSplitter(\n",
    "    separator = \"\\n\",\n",
    "    chunk_size = 600,\n",
    "    chunk_overlap = 100,\n",
    ")\n",
    "\n",
    "loader = UnstructuredFileLoader(\"./study_file.docx\")\n",
    "\n",
    "loader.load_and_split(text_splitter = splitter)\n"
   ]
  },
  {
   "cell_type": "markdown",
   "id": "d845976c",
   "metadata": {},
   "source": [
    "## Vector Store"
   ]
  },
  {
   "cell_type": "code",
   "execution_count": null,
   "id": "f28fb859",
   "metadata": {},
   "outputs": [],
   "source": [
    "from langchain.embeddings import OpenAIEmbeddings\n",
    "\n",
    "embedder = OpenAIEmbeddings()\n",
    "\n",
    "vector = embedder.embed_documents([\n",
    "    \"hi\",\n",
    "    \"how\",\n",
    "    \"are\",\n",
    "    \"you? my name is Jay!\"\n",
    "    \n",
    "])\n",
    "\n",
    "len(vector[2])"
   ]
  },
  {
   "cell_type": "code",
   "execution_count": null,
   "id": "839674a7",
   "metadata": {
    "scrolled": true
   },
   "outputs": [],
   "source": [
    "from langchain.chat_models import ChatOpenAI\n",
    "from langchain.document_loaders import UnstructuredFileLoader\n",
    "from langchain.callbacks import StreamingStdOutCallbackHandler\n",
    "from langchain.text_splitter import CharacterTextSplitter\n",
    "from langchain.vectorstores import Chroma\n",
    "from langchain.embeddings import OpenAIEmbeddings, CacheBackedEmbeddings\n",
    "from langchain.storage import LocalFileStore\n",
    "\"\"\"\n",
    "pip install chromadb\n",
    "pip install chroma --upgrade\n",
    "\"\"\"\n",
    "\n",
    "cache_dir = LocalFileStore(\"./cache/\")\n",
    "\n",
    "chat = ChatOpenAI(\n",
    "                model=\"gpt-4.1-nano\",\n",
    "                temperature=0.1,\n",
    "                tiktoken_model_name=\"gpt-3.5-turbo\",\n",
    "                streaming = True,\n",
    "                callbacks=[StreamingStdOutCallbackHandler()])\n",
    "\n",
    "splitter = CharacterTextSplitter.from_tiktoken_encoder(\n",
    "    separator = \"\\n\",\n",
    "    chunk_size = 600,\n",
    "    chunk_overlap = 100,\n",
    ")\n",
    "\n",
    "loader = UnstructuredFileLoader(\"./study_file.docx\")\n",
    "\n",
    "docs = loader.load_and_split(text_splitter = splitter)\n",
    "\n",
    "embeddings = OpenAIEmbeddings()\n",
    "\n",
    "cached_embeddings = CacheBackedEmbeddings.from_bytes_store(\n",
    "    embeddings, cache_dir\n",
    ")\n",
    "\n",
    "vectorstore = Chroma.from_documents(docs, cached_embeddings)\n",
    "\n",
    "result = vectorstore.similarity_search(\"where does winston live\")\n",
    "\n",
    "result"
   ]
  },
  {
   "cell_type": "markdown",
   "id": "11e48471",
   "metadata": {},
   "source": [
    "## RetrievalQA"
   ]
  },
  {
   "cell_type": "code",
   "execution_count": null,
   "id": "74ad7cca",
   "metadata": {
    "scrolled": true
   },
   "outputs": [],
   "source": [
    "from langchain.chat_models import ChatOpenAI\n",
    "from langchain.document_loaders import UnstructuredFileLoader\n",
    "from langchain.callbacks import StreamingStdOutCallbackHandler\n",
    "from langchain.text_splitter import CharacterTextSplitter\n",
    "from langchain.vectorstores import Chroma, FAISS\n",
    "from langchain.embeddings import OpenAIEmbeddings, CacheBackedEmbeddings\n",
    "from langchain.storage import LocalFileStore\n",
    "from langchain.chains import RetrievalQA\n",
    "\n",
    "\"\"\"\n",
    "\n",
    "\"\"\"\n",
    "\n",
    "cache_dir = LocalFileStore(\"./cache/\")\n",
    "\n",
    "chat = ChatOpenAI(\n",
    "#                 model=\"gpt-4.1-nano\",\n",
    "                temperature=0.1,\n",
    "                tiktoken_model_name=\"gpt-3.5-turbo\",\n",
    "                streaming = True,\n",
    "                callbacks=[StreamingStdOutCallbackHandler()])\n",
    "\n",
    "splitter = CharacterTextSplitter.from_tiktoken_encoder(\n",
    "    separator = \"\\n\",\n",
    "    chunk_size = 600,\n",
    "    chunk_overlap = 100,\n",
    ")\n",
    "\n",
    "loader = UnstructuredFileLoader(\"./study_file.docx\")\n",
    "\n",
    "docs = loader.load_and_split(text_splitter = splitter)\n",
    "\n",
    "embeddings = OpenAIEmbeddings()\n",
    "\n",
    "cached_embeddings = CacheBackedEmbeddings.from_bytes_store(\n",
    "    embeddings, cache_dir\n",
    ")\n",
    "\n",
    "vectorstore = FAISS.from_documents(docs, cached_embeddings)\n",
    "\n",
    "chain = RetrievalQA.from_chain_type(\n",
    "    llm=chat,\n",
    "    chain_type = \"stuff\",  # stuff, refine,map_reduce, map_rerank\n",
    "    retriever = vectorstore.as_retriever(),\n",
    ")\n",
    "\n",
    "# chain.run(\"where does winston live\")\n",
    "chain.run(\"Describe Victory Mansions\")"
   ]
  },
  {
   "cell_type": "code",
   "execution_count": null,
   "id": "5d8b8283",
   "metadata": {},
   "outputs": [],
   "source": []
  }
 ],
 "metadata": {
  "kernelspec": {
   "display_name": "Python 3 (ipykernel)",
   "language": "python",
   "name": "python3"
  },
  "language_info": {
   "codemirror_mode": {
    "name": "ipython",
    "version": 3
   },
   "file_extension": ".py",
   "mimetype": "text/x-python",
   "name": "python",
   "nbconvert_exporter": "python",
   "pygments_lexer": "ipython3",
   "version": "3.9.7"
  }
 },
 "nbformat": 4,
 "nbformat_minor": 5
}
